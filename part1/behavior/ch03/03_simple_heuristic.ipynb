{
 "cells": [
  {
   "cell_type": "markdown",
   "metadata": {},
   "source": [
    "# Chapter 03 복잡한 선택에 대한 단순한 휴리스틱"
   ]
  },
  {
   "cell_type": "markdown",
   "metadata": {},
   "source": [
    "* 싸이지먼트 / 마켓On : 파트 1 - 행동경제학 [1]\n",
    "* 김무성    "
   ]
  },
  {
   "cell_type": "markdown",
   "metadata": {},
   "source": [
    "# 차례\n",
    "* 제1절 체계적인 선택의 오류 예시\n",
    "    - 1 휴리스틱\n",
    "    - 2 비현실적 낙관주의\n",
    "    - 3 현상유지 편향\n",
    "* 제2절 효용과 탐색\n",
    "    - 1 탐색방법\n",
    "    - 2 임의적 선택\n",
    "    - 3 닻내림\n",
    "    - 4 닻내림 지수\n",
    "* 제3절 심리적 회계와 프레이밍\n",
    "    - 1 기준에 의존하는 효용\n",
    "    - 2 손실회피\n",
    "    - 3 소유효과\n",
    "    - 4 수용의사와 지불의사\n",
    "    - 5 거래효용\n",
    "    - 6 프레이밍 좁히기\n",
    "    - 7 쾌락적 편집\n",
    "    - 8 선택항 제시 범위에 따라 달라지는 선택의 결과\n",
    "* 제4절 수요, 공급, 시장\n",
    "    - 1 실험실에서의 이중경매시장\n",
    "    - 2 게시호가와 시장지배력\n",
    "    - 3 일물일가의 법칙\n",
    "* 제5절 기준의존, 노동공급, 주택시장\n",
    "    - 1 노동공급\n",
    "    - 2 주택시장\n",
    "* 제6절 행동적인 생애주기가설\n",
    "    - 1 일반적인 생애주기가설\n",
    "    - 2 대체가능성과 심리적 회계\n",
    "* 제7절 미래를 위한 저축\n",
    "    - 1 다각화하자\n",
    "    - 2 다각화하지 말자"
   ]
  },
  {
   "cell_type": "markdown",
   "metadata": {},
   "source": [
    "합리적인 경제적 선택\n",
    "* 진열된 시리얼을 사야 한다.\n",
    "    - 소비자는 항상 구매하던 것을 구매하는가?\n",
    "    - 새로운 시리얼을 사려고 노력하는가?\n",
    "    - 소비자는 특가상품을 구매하는가?\n",
    "    - 평상시 사던 시리얼이 다음주에 특별한 제공이 되는가?\n",
    "    - 그것이 다른 상점보다 더 싼가?\n",
    "    - 소비자는 주말에 캐리비안 베이를 갈 수 있는 기회가 주어지는 시리얼에 유혹되는가?"
   ]
  },
  {
   "cell_type": "markdown",
   "metadata": {},
   "source": [
    "사람들 대부분은\n",
    "* 이러한 문제들에 고민하는데 많은 시간을 소비하지 않는다.\n",
    "    - 실제로 대부분은 간단하게도 보통 사던 시리얼을 구매한다."
   ]
  },
  {
   "cell_type": "markdown",
   "metadata": {},
   "source": [
    "빠른 결정\n",
    "* 이러한 빠른 결정은 사람들을 행복하게 유지시키는 방법이다."
   ]
  },
  {
   "cell_type": "markdown",
   "metadata": {},
   "source": [
    "휴리스틱\n",
    "* 이것이 바로 고정적 편향, 어림짐작 또는 단순한 휴리스틱(simple heuristic)의 예이다.\n",
    "* 휴리스틱은 사람이 문제를 해결하는 어떤 행동의 간단한 규칙이다."
   ]
  },
  {
   "cell_type": "markdown",
   "metadata": {},
   "source": [
    "<font color=\"red\">휴리스틱과 휴리스틱이 발생시키는 편향은 책 전반에 걸쳐 반복되는 주제가 될 것이다.</font>"
   ]
  },
  {
   "cell_type": "markdown",
   "metadata": {},
   "source": [
    "# 제1절 체계적인 선택의 오류 예시\n",
    "* 1 휴리스틱\n",
    "* 2 비현실적 낙관주의\n",
    "* 3 현상유지 편향"
   ]
  },
  {
   "cell_type": "markdown",
   "metadata": {},
   "source": [
    "<img src=\"figures/cap3.1.png\" width=600 />"
   ]
  },
  {
   "cell_type": "markdown",
   "metadata": {},
   "source": [
    "<img src=\"figures/cap3.2.png\" width=600 />"
   ]
  },
  {
   "cell_type": "markdown",
   "metadata": {},
   "source": [
    "<img src=\"figures/cap3.3.png\" width=600 />"
   ]
  },
  {
   "cell_type": "markdown",
   "metadata": {},
   "source": [
    "## 1 휴리스틱"
   ]
  },
  {
   "cell_type": "markdown",
   "metadata": {},
   "source": [
    "* 클리블랜드에서 필라델피아까지의 거리는?\n",
    "* 안젤리나 졸리는 몇 살?"
   ]
  },
  {
   "cell_type": "markdown",
   "metadata": {},
   "source": [
    "#### 가용성 휴리스틱"
   ]
  },
  {
   "cell_type": "markdown",
   "metadata": {},
   "source": [
    "* 살인뉴스와 자살뉴스"
   ]
  },
  {
   "cell_type": "markdown",
   "metadata": {},
   "source": [
    "#### 대표성 휴리스틱"
   ]
  },
  {
   "cell_type": "markdown",
   "metadata": {},
   "source": [
    "* 키가 2미터인 흑인과 1미터 68센티 유태인. 둘 중 누가 농구선수?"
   ]
  },
  {
   "cell_type": "markdown",
   "metadata": {},
   "source": [
    "#### 사전정보"
   ]
  },
  {
   "cell_type": "markdown",
   "metadata": {},
   "source": [
    "* 맥주 실험\n",
    "* 코카콜라와 팹시콜라"
   ]
  },
  {
   "cell_type": "markdown",
   "metadata": {},
   "source": [
    "## 2 비현실적 낙관주의"
   ]
  },
  {
   "cell_type": "markdown",
   "metadata": {},
   "source": [
    "* 당신의 성적은 어느 범주에 들것으로 기대하는가?"
   ]
  },
  {
   "cell_type": "markdown",
   "metadata": {},
   "source": [
    "## 3 현상유지 편향"
   ]
  },
  {
   "cell_type": "markdown",
   "metadata": {},
   "source": [
    "* 캘리포니아 주의 전력서비스에 대한 신뢰도와 전기요금의 선호에 대한 소비자 선택"
   ]
  },
  {
   "cell_type": "markdown",
   "metadata": {},
   "source": [
    "# 제2절 효용과 탐색\n",
    "* 1 탐색방법\n",
    "* 2 임의적 선택\n",
    "* 3 닻내림\n",
    "* 4 닻내림 지수"
   ]
  },
  {
   "cell_type": "markdown",
   "metadata": {},
   "source": [
    "<img src=\"figures/cap3.4.png\" width=600 />"
   ]
  },
  {
   "cell_type": "markdown",
   "metadata": {},
   "source": [
    "<img src=\"figures/cap3.5.png\" width=600 />"
   ]
  },
  {
   "cell_type": "markdown",
   "metadata": {},
   "source": [
    "## 1 탐색방법"
   ]
  },
  {
   "cell_type": "markdown",
   "metadata": {},
   "source": [
    "<img src=\"figures/cap3.6.png\" width=600 />"
   ]
  },
  {
   "cell_type": "markdown",
   "metadata": {},
   "source": [
    "* 연구방법 3.1 - 무한회귀 문제 : 어떤 휴리스틱을 사용할 것인지에 대한 휴리스틱"
   ]
  },
  {
   "cell_type": "markdown",
   "metadata": {},
   "source": [
    "#### 탐색과 선택 적합성"
   ]
  },
  {
   "cell_type": "markdown",
   "metadata": {},
   "source": [
    "* 옵션의 보수가 10개의 숫자 합인 8개의 옵션들 사이에서 선택하기"
   ]
  },
  {
   "cell_type": "markdown",
   "metadata": {},
   "source": [
    "<img src=\"figures/cap3.7.png\" width=600 />"
   ]
  },
  {
   "cell_type": "markdown",
   "metadata": {},
   "source": [
    "* 연구방법 3.2 - 실험을 얼마나 오래 해야 하는가 : 시간압력의 예"
   ]
  },
  {
   "cell_type": "markdown",
   "metadata": {},
   "source": [
    "## 2 임의적 선택"
   ]
  },
  {
   "cell_type": "markdown",
   "metadata": {},
   "source": [
    "#### 갈등적 선택 / 비갈등적 선택"
   ]
  },
  {
   "cell_type": "markdown",
   "metadata": {},
   "source": [
    "* 시리얼 선택 상황"
   ]
  },
  {
   "cell_type": "markdown",
   "metadata": {},
   "source": [
    "<img src=\"figures/cap3.4.png\" width=600 />"
   ]
  },
  {
   "cell_type": "markdown",
   "metadata": {},
   "source": [
    "* CD 플레이어 구매"
   ]
  },
  {
   "cell_type": "markdown",
   "metadata": {},
   "source": [
    "<img src=\"figures/cap3.8.png\" width=600 />"
   ]
  },
  {
   "cell_type": "markdown",
   "metadata": {},
   "source": [
    "#### 상충대조"
   ]
  },
  {
   "cell_type": "markdown",
   "metadata": {},
   "source": [
    "* CD나 책을 구매할 수 있는 쿠폰과 현금 중에서 선택\n",
    "* 무대 뒤에서 .."
   ]
  },
  {
   "cell_type": "markdown",
   "metadata": {},
   "source": [
    "<img src=\"figures/cap3.9.png\" width=600 />"
   ]
  },
  {
   "cell_type": "markdown",
   "metadata": {},
   "source": [
    "#### 절충이 있는 극단회피"
   ]
  },
  {
   "cell_type": "markdown",
   "metadata": {},
   "source": [
    "* 시리얼 상황"
   ]
  },
  {
   "cell_type": "markdown",
   "metadata": {},
   "source": [
    "<img src=\"figures/cap3.4.png\" width=600 />"
   ]
  },
  {
   "cell_type": "markdown",
   "metadata": {},
   "source": [
    "<img src=\"figures/cap3.11.png\" width=600 />"
   ]
  },
  {
   "cell_type": "markdown",
   "metadata": {},
   "source": [
    "#### 양극화만 있는 극단회피"
   ]
  },
  {
   "cell_type": "markdown",
   "metadata": {},
   "source": [
    "<img src=\"figures/cap3.10.png\" width=600 />"
   ]
  },
  {
   "cell_type": "markdown",
   "metadata": {},
   "source": [
    "#### 선택-거절 불일치"
   ]
  },
  {
   "cell_type": "markdown",
   "metadata": {},
   "source": [
    "* 시리얼 상황"
   ]
  },
  {
   "cell_type": "markdown",
   "metadata": {},
   "source": [
    "<img src=\"figures/cap3.4.png\" width=600 />"
   ]
  },
  {
   "cell_type": "markdown",
   "metadata": {},
   "source": [
    "* 휴향지 고르기"
   ]
  },
  {
   "cell_type": "markdown",
   "metadata": {},
   "source": [
    "<img src=\"figures/cap3.12.png\" width=600 />"
   ]
  },
  {
   "cell_type": "markdown",
   "metadata": {},
   "source": [
    "<img src=\"figures/cap3.13.png\" width=600 />"
   ]
  },
  {
   "cell_type": "markdown",
   "metadata": {},
   "source": [
    "## 3 닻내림"
   ]
  },
  {
   "cell_type": "markdown",
   "metadata": {},
   "source": [
    "* 행운의 수레바퀴\n",
    "    - UN 회원국들 중 아프리카 국가들이 차지하는 비중은 여러분들이 방금 적은 숫자보다 클까요, 적을까요?\n",
    "    - UN에서 아프리카 국가들이 차지하는 비율이 얼마나 된다고 생각합니까?"
   ]
  },
  {
   "cell_type": "markdown",
   "metadata": {},
   "source": [
    "* 간디가 세상을 떠났을 때 나이가 114세 이상이었는가?"
   ]
  },
  {
   "cell_type": "markdown",
   "metadata": {},
   "source": [
    "* 위스콘신 밀워키의 인구를 추정하기"
   ]
  },
  {
   "cell_type": "markdown",
   "metadata": {},
   "source": [
    "#### '기준선 설정 및 조정' 과정"
   ]
  },
  {
   "cell_type": "markdown",
   "metadata": {},
   "source": [
    "* 훈족의 아틸라 왕이 유럽을 침략한 연도는?\n",
    "* 톰소여의 모험 이야기"
   ]
  },
  {
   "cell_type": "markdown",
   "metadata": {},
   "source": [
    "#### 첫인상 혹은 각인"
   ]
  },
  {
   "cell_type": "markdown",
   "metadata": {},
   "source": [
    "* Perl King의 흑진주 스토리\n",
    "* 마케팅에서 닻내림 효과 - 상품 가격 입찰"
   ]
  },
  {
   "cell_type": "markdown",
   "metadata": {},
   "source": [
    "#### 임의적 일관성\n",
    "* 소음을 듣는 대가는 얼마인가?"
   ]
  },
  {
   "cell_type": "markdown",
   "metadata": {},
   "source": [
    "#### 닻내림 지속성\n",
    "* 소음 다시 듣기"
   ]
  },
  {
   "cell_type": "markdown",
   "metadata": {},
   "source": [
    "#### 사고방식의 변화\n",
    "* 시 낭송 듣기"
   ]
  },
  {
   "cell_type": "markdown",
   "metadata": {},
   "source": [
    "#### 수요 - 공급 곡선"
   ]
  },
  {
   "cell_type": "markdown",
   "metadata": {},
   "source": [
    "#### 판단에 영향 "
   ]
  },
  {
   "cell_type": "markdown",
   "metadata": {},
   "source": [
    "* (1) 현재 얼마나 행복한가?\n",
    "* (2) 데이트를 얼마나 자주 하는가?"
   ]
  },
  {
   "cell_type": "markdown",
   "metadata": {},
   "source": [
    "## 4 닻내림 지수"
   ]
  },
  {
   "cell_type": "markdown",
   "metadata": {},
   "source": [
    "* 삼나무 질문\n",
    "    - 세상에서 가장 높은 삼나무 높이는 1,200 피트를 넘을까? 넘지 않을까?\n",
    "    - 세상에서 가장 높은 삼나무 높이는 어느 정도일까?\n",
    "* 부동산 거래 대행인\n",
    "* 태평양 유조선때문에 일어난 환경 파괴 사례\n",
    "* 오염이 덜한 지역에서 살수 있다면 생활비가 얼마 정도 더 오르는 것을 수용할 수 있는가?\n",
    "* 마케팅의 무작위 배급 전략\n",
    "* 바자회 협상\n",
    "* '정반대로 생각하는 전략'\n",
    "* 신뢰할 수 없는 메시지\n",
    "* 컴퓨터 스크린세이버"
   ]
  },
  {
   "cell_type": "markdown",
   "metadata": {},
   "source": [
    "# 제3절 심리적 회계와 프레이밍\n",
    "* 1 기준에 의존하는 효용\n",
    "* 2 손실회피\n",
    "* 3 소유효과\n",
    "* 4 수용의사와 지불의사\n",
    "* 5 거래효용\n",
    "* 6 프레이밍 좁히기\n",
    "* 7 쾌락적 편집\n",
    "* 8 선택항 제시 범위에 따라 달라지는 선택의 결과"
   ]
  },
  {
   "cell_type": "markdown",
   "metadata": {},
   "source": [
    "\\$5천이 있는데도 카드빛 \\$3천 를 갚지 않는 이유는 무엇인가?"
   ]
  },
  {
   "cell_type": "markdown",
   "metadata": {},
   "source": [
    "#### 심리적 회계\n",
    "* 맥락효과\n",
    "    - 프레이밍 효과"
   ]
  },
  {
   "cell_type": "markdown",
   "metadata": {},
   "source": [
    "<img src=\"figures/cap3.14.png\" width=600 />"
   ]
  },
  {
   "cell_type": "markdown",
   "metadata": {},
   "source": [
    "경제적 인간은 추론을 사용하고 지각과 직관이 수행하는 역할을 알게 되면 사람들이 표준적인 경제학으로 설명되는 이유보다 사람들이 그렇게 행동하는 이유에 대해 다른 관점을 제공할 수 있다. "
   ]
  },
  {
   "cell_type": "markdown",
   "metadata": {},
   "source": [
    "## 1 기준에 의존하는 효용"
   ]
  },
  {
   "cell_type": "markdown",
   "metadata": {},
   "source": [
    "* 자연적인 평가\n",
    "    - 크기,거리, 소음, 온도, 유사성\n",
    "* 상대적 평가\n",
    "* 기준점 혹은 기준 수준"
   ]
  },
  {
   "cell_type": "markdown",
   "metadata": {},
   "source": [
    "#### 기준점 (상대성)"
   ]
  },
  {
   "cell_type": "markdown",
   "metadata": {},
   "source": [
    "* Carol과 Amanda의 재산 변화 : 누가 더 행복한가?\n",
    "    - Carol : \\$4백만 -> \\$3백만 \n",
    "    - Amanda : \\$1백만 -> \\$1.1백만"
   ]
  },
  {
   "cell_type": "markdown",
   "metadata": {},
   "source": [
    "#### 효용함수, 가치함수\n",
    "* 효용함수 \n",
    "    - u(x)\n",
    "* 가치함수\n",
    "    - v(x-r)\n",
    "* 가치를 포함한 효용함수\n",
    "    - $u^t$ = a*u(x) + (1-a)v(x-r)"
   ]
  },
  {
   "cell_type": "markdown",
   "metadata": {},
   "source": [
    "#### 기준점 의존"
   ]
  },
  {
   "cell_type": "markdown",
   "metadata": {},
   "source": [
    "<font color=\"red\">기준점을 통해 효용을 측정할 경우, 이득과 손실 사이에 차이가 존재한다</font>"
   ]
  },
  {
   "cell_type": "markdown",
   "metadata": {},
   "source": [
    "## 2 손실회피"
   ]
  },
  {
   "cell_type": "markdown",
   "metadata": {},
   "source": [
    "* 듀크 대학 농구 입장권\n",
    "    - 엄청난 가격 차이 : 이유는?\n",
    "        - 1 이미 보유 하고 있는 것에 대한 깊은 애착\n",
    "        - 2 얻을 것보다 잃어버릴 것에 더 집착하는 습성\n",
    "        - 3 상대방도 내가 보는 관점에서 거래를 평가할 것이라는 믿음\n",
    "* 이케아 효과\n",
    "* 가상의 소유 의식\n",
    "    - 체험 판촉\n",
    "* 동전던지기 내기 실험"
   ]
  },
  {
   "cell_type": "markdown",
   "metadata": {},
   "source": [
    "## 3 소유효과"
   ]
  },
  {
   "cell_type": "markdown",
   "metadata": {},
   "source": [
    "* 이케아 효과\n",
    "* 완제품보다 반제품\n",
    "* 미국 Local Motors\n",
    "* 강한 애착 \n",
    "    - 경매의 예 : 종이접기 작품 팔기\n",
    "    - 경제학자 R 교수\n",
    "        - 와인 수집가"
   ]
  },
  {
   "cell_type": "markdown",
   "metadata": {},
   "source": [
    "<font color=\"red\">기존점 의존 + 손실효과 -> 소유효과</font>"
   ]
  },
  {
   "cell_type": "markdown",
   "metadata": {},
   "source": [
    "* '커피 머그 혹은 초콜릿 바' 실험\n",
    "* 맥락\n",
    "    - 학습\n",
    "    - 기회비용\n",
    "    - 이득과 손실의 차이\n",
    "    - 맥락 의존\n",
    "* 스미스 기본수급 메커니즘 실험\n",
    "    - 카너만과 트버스키의 변형\n",
    "        - 판매자 : \n",
    "        - 선택자 :\n",
    "        - 매수자 :\n",
    "* 리스크손실 계수\n",
    "    - 소비재 품목 가격 인하 & 상승"
   ]
  },
  {
   "cell_type": "markdown",
   "metadata": {},
   "source": [
    "<img src=\"figures/cap3.15.png\" width=600 />"
   ]
  },
  {
   "cell_type": "markdown",
   "metadata": {},
   "source": [
    "## 4 수용의사와 지불의사"
   ]
  },
  {
   "cell_type": "markdown",
   "metadata": {},
   "source": [
    "Anna가 \\$4를 가지고 식료품점에 들어간다면 허니를 \\$4를 구매할 것이라고 예상할 수 있을까?"
   ]
  },
  {
   "cell_type": "markdown",
   "metadata": {},
   "source": [
    "<img src=\"figures/cap3.4.png\" width=600 />"
   ]
  },
  {
   "cell_type": "markdown",
   "metadata": {},
   "source": [
    "* 조건부 가치평가\n",
    "* 지불의사(Willingness to Pay, WTP)\n",
    "* 수용의사(Wiliingness to Accept, WTA)\n",
    "* 프레이밍 효과의 특별한 형태\n",
    "* 절차의 불변성을 위배\n",
    "* 10개의 초콜릿에 대한 조건부 가치평가 실험\n",
    "* 무손실 가설\n",
    "    - 기회비용\n",
    "    - 경험의 중요성\n",
    "* 애매모호함\n",
    "    - 소유하는 것과 소유하지 않는 것\n",
    "    - 이익과 손실"
   ]
  },
  {
   "cell_type": "markdown",
   "metadata": {},
   "source": [
    "<img src=\"figures/cap3.16.png\" width=600 />"
   ]
  },
  {
   "cell_type": "markdown",
   "metadata": {},
   "source": [
    "## 5 거래효용"
   ]
  },
  {
   "cell_type": "markdown",
   "metadata": {},
   "source": [
    "Anna가 주말에 너티를 사러 지역 식료품에 간다고 가정해보자. 얼마를 지불할 의향이 있을까?"
   ]
  },
  {
   "cell_type": "markdown",
   "metadata": {},
   "source": [
    "<img src=\"figures/cap3.4.png\" width=600 />"
   ]
  },
  {
   "cell_type": "markdown",
   "metadata": {},
   "source": [
    "* 최대 지불의사\n",
    "* 취득효용(acquisition utility)\n",
    "* 거래효용(transaction utility)\n",
    "* 맥락\n",
    "    - Thaler(2008의 연구)\n",
    "        - 당신은 더운 날에 해변 위에 누워 있다. 당신이 마실 수 있는 것은 오직 물뿐이다. 시간의 흐름에 따라 당신이 좋아하는 맥주브랜드의 시원한 맥주를 얼마나 즐겼는지에 대해 생각하게 된다. 동료가 가까이 맥주를 파는 멋있는 호텔에 전화를 걸어 맥주 한 병을 가져오라고 했다. 동료가 맥주의 가격은 비싸므로 맥주를 구매하는데 당신은 얼마나 지불할 수 있는지에 대해 묻는다. 얼마의 가격으로 당신은 말했을까? "
   ]
  },
  {
   "cell_type": "markdown",
   "metadata": {},
   "source": [
    "## 6 프레이밍 좁히기"
   ]
  },
  {
   "cell_type": "markdown",
   "metadata": {},
   "source": [
    "<img src=\"figures/cap3.17.png\" width=600 />"
   ]
  },
  {
   "cell_type": "markdown",
   "metadata": {},
   "source": [
    "## 7 쾌락적 편집"
   ]
  },
  {
   "cell_type": "markdown",
   "metadata": {},
   "source": [
    "## 8 선택항 제시 범위에 따라 달라지는 선택의 결과"
   ]
  },
  {
   "cell_type": "markdown",
   "metadata": {},
   "source": [
    "<img src=\"figures/cap3.18.png\" width=600 />"
   ]
  },
  {
   "cell_type": "markdown",
   "metadata": {},
   "source": [
    "<img src=\"figures/cap3.19.png\" width=600 />"
   ]
  },
  {
   "cell_type": "markdown",
   "metadata": {},
   "source": [
    "# 제4절 수요, 공급, 시장\n",
    "* 1 실험실에서의 이중경매시장\n",
    "* 2 게시호가와 시장지배력\n",
    "* 3 일물일가의 법칙"
   ]
  },
  {
   "cell_type": "markdown",
   "metadata": {},
   "source": [
    "<img src=\"figures/cap3.20.png\" width=600 />"
   ]
  },
  {
   "cell_type": "markdown",
   "metadata": {},
   "source": [
    "<img src=\"figures/cap3.21.png\" width=600 />"
   ]
  },
  {
   "cell_type": "markdown",
   "metadata": {},
   "source": [
    "<img src=\"figures/cap3.22.png\" width=600 />"
   ]
  },
  {
   "cell_type": "markdown",
   "metadata": {},
   "source": [
    "## 1 실험실에서의 이중경매시장"
   ]
  },
  {
   "cell_type": "markdown",
   "metadata": {},
   "source": [
    "<img src=\"figures/cap3.23.png\" width=600 />"
   ]
  },
  {
   "cell_type": "markdown",
   "metadata": {},
   "source": [
    "<img src=\"figures/cap3.24.png\" width=600 />"
   ]
  },
  {
   "cell_type": "markdown",
   "metadata": {},
   "source": [
    "<img src=\"figures/cap3.25.png\" width=600 />"
   ]
  },
  {
   "cell_type": "markdown",
   "metadata": {},
   "source": [
    "## 2 게시호가와 시장지배력"
   ]
  },
  {
   "cell_type": "markdown",
   "metadata": {},
   "source": [
    "<img src=\"figures/cap3.26.png\" width=600 />"
   ]
  },
  {
   "cell_type": "markdown",
   "metadata": {},
   "source": [
    "## 3 일물일가의 법칙"
   ]
  },
  {
   "cell_type": "markdown",
   "metadata": {},
   "source": [
    "<img src=\"figures/cap3.27.png\" width=600 />"
   ]
  },
  {
   "cell_type": "markdown",
   "metadata": {},
   "source": [
    "<img src=\"figures/cap3.28.png\" width=600 />"
   ]
  },
  {
   "cell_type": "markdown",
   "metadata": {},
   "source": [
    "# 제5절 기준의존, 노동공급, 주택시장\n",
    "* 1 노동공급\n",
    "* 2 주택시장"
   ]
  },
  {
   "cell_type": "markdown",
   "metadata": {},
   "source": [
    "## 1 노동공급"
   ]
  },
  {
   "cell_type": "markdown",
   "metadata": {},
   "source": [
    "<img src=\"figures/cap3.29.png\" width=600 />"
   ]
  },
  {
   "cell_type": "markdown",
   "metadata": {},
   "source": [
    "<img src=\"figures/cap3.30.png\" width=600 />"
   ]
  },
  {
   "cell_type": "markdown",
   "metadata": {},
   "source": [
    "<img src=\"figures/cap3.31.png\" width=600 />"
   ]
  },
  {
   "cell_type": "markdown",
   "metadata": {},
   "source": [
    "<img src=\"figures/cap3.32.png\" width=600 />"
   ]
  },
  {
   "cell_type": "markdown",
   "metadata": {},
   "source": [
    "<img src=\"figures/cap3.33.png\"  />"
   ]
  },
  {
   "cell_type": "markdown",
   "metadata": {},
   "source": [
    "<img src=\"figures/cap3.34.png\"  />"
   ]
  },
  {
   "cell_type": "markdown",
   "metadata": {},
   "source": [
    "## 2 주택시장"
   ]
  },
  {
   "cell_type": "code",
   "execution_count": null,
   "metadata": {
    "collapsed": true
   },
   "outputs": [],
   "source": [
    "\n",
    "<img src=\"figures/cap3.35.png\" width=600 />\n",
    "<img src=\"figures/cap3.36.png\" width=600 />\n",
    "<img src=\"figures/cap3.37.png\" width=600 />\n",
    "<img src=\"figures/cap3.38.png\" width=600 />\n",
    "<img src=\"figures/cap3.39.png\" width=600 />\n",
    "<img src=\"figures/cap3.40.png\" width=600 />\n",
    "<img src=\"figures/cap3.41.png\" width=600 />\n",
    "<img src=\"figures/cap3.42.png\" width=600 />\n",
    "<img src=\"figures/cap3.43.png\" width=600 />\n",
    "<img src=\"figures/cap3.44.png\" width=600 />\n",
    "<img src=\"figures/cap3.45.png\" width=600 />\n",
    "<img src=\"figures/cap3.46.png\" width=600 />\n",
    "<img src=\"figures/cap3.47.png\" width=600 />\n",
    "<img src=\"figures/cap3.48.png\" width=600 />\n",
    "<img src=\"figures/cap3.49.png\" width=600 />\n",
    "<img src=\"figures/cap3.50.png\" width=600 />\n",
    "<img src=\"figures/cap3.51.png\" width=600 />\n",
    "<img src=\"figures/cap3.52.png\" width=600 />\n",
    "<img src=\"figures/cap3.53.png\" width=600 />\n",
    "<img src=\"figures/cap3.54.png\" width=600 />"
   ]
  },
  {
   "cell_type": "markdown",
   "metadata": {},
   "source": [
    "# 제6절 행동적인 생애주기가설\n",
    "* 1 일반적인 생애주기가설\n",
    "* 2 대체가능성과 심리적 회계"
   ]
  },
  {
   "cell_type": "markdown",
   "metadata": {},
   "source": [
    "## 1 일반적인 생애주기가설"
   ]
  },
  {
   "cell_type": "markdown",
   "metadata": {},
   "source": [
    "## 2 대체가능성과 심리적 회계"
   ]
  },
  {
   "cell_type": "markdown",
   "metadata": {},
   "source": [
    "# 제7절 미래를 위한 저축\n",
    "* 1 다각화하자\n",
    "* 2 다각화하지 말자"
   ]
  },
  {
   "cell_type": "markdown",
   "metadata": {},
   "source": [
    "## 1 다각화하자"
   ]
  },
  {
   "cell_type": "markdown",
   "metadata": {},
   "source": [
    "## 2 다각화하지 말자"
   ]
  },
  {
   "cell_type": "code",
   "execution_count": null,
   "metadata": {
    "collapsed": true
   },
   "outputs": [],
   "source": [
    "# 참고자료\n",
    "* [1] "
   ]
  }
 ],
 "metadata": {
  "kernelspec": {
   "display_name": "Python 2",
   "language": "python",
   "name": "python2"
  },
  "language_info": {
   "codemirror_mode": {
    "name": "ipython",
    "version": 2
   },
   "file_extension": ".py",
   "mimetype": "text/x-python",
   "name": "python",
   "nbconvert_exporter": "python",
   "pygments_lexer": "ipython2",
   "version": "2.7.6"
  }
 },
 "nbformat": 4,
 "nbformat_minor": 0
}
